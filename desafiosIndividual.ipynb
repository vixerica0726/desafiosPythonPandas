{
  "nbformat": 4,
  "nbformat_minor": 0,
  "metadata": {
    "colab": {
      "provenance": [],
      "authorship_tag": "ABX9TyMouh+DZc1XM74vKPdD4ktK",
      "include_colab_link": true
    },
    "kernelspec": {
      "name": "python3",
      "display_name": "Python 3"
    },
    "language_info": {
      "name": "python"
    }
  },
  "cells": [
    {
      "cell_type": "markdown",
      "metadata": {
        "id": "view-in-github",
        "colab_type": "text"
      },
      "source": [
        "<a href=\"https://colab.research.google.com/github/vixerica0726/desafiosPythonPandas/blob/main/desafiosIndividual.ipynb\" target=\"_parent\"><img src=\"https://colab.research.google.com/assets/colab-badge.svg\" alt=\"Open In Colab\"/></a>"
      ]
    },
    {
      "cell_type": "code",
      "source": [
        "# Acessar o arquivo com a base de dados\n",
        "from google.colab import files\n",
        "uploaded = files.upload()"
      ],
      "metadata": {
        "colab": {
          "base_uri": "https://localhost:8080/",
          "height": 72
        },
        "id": "PyZWSLIoUoQT",
        "outputId": "f0bc61db-e6cd-4374-81e0-b4c8232af535"
      },
      "execution_count": 64,
      "outputs": [
        {
          "output_type": "display_data",
          "data": {
            "text/plain": [
              "<IPython.core.display.HTML object>"
            ],
            "text/html": [
              "\n",
              "     <input type=\"file\" id=\"files-753b5b64-a0fd-42d7-911a-5d127e213d55\" name=\"files[]\" multiple disabled\n",
              "        style=\"border:none\" />\n",
              "     <output id=\"result-753b5b64-a0fd-42d7-911a-5d127e213d55\">\n",
              "      Upload widget is only available when the cell has been executed in the\n",
              "      current browser session. Please rerun this cell to enable.\n",
              "      </output>\n",
              "      <script>// Copyright 2017 Google LLC\n",
              "//\n",
              "// Licensed under the Apache License, Version 2.0 (the \"License\");\n",
              "// you may not use this file except in compliance with the License.\n",
              "// You may obtain a copy of the License at\n",
              "//\n",
              "//      http://www.apache.org/licenses/LICENSE-2.0\n",
              "//\n",
              "// Unless required by applicable law or agreed to in writing, software\n",
              "// distributed under the License is distributed on an \"AS IS\" BASIS,\n",
              "// WITHOUT WARRANTIES OR CONDITIONS OF ANY KIND, either express or implied.\n",
              "// See the License for the specific language governing permissions and\n",
              "// limitations under the License.\n",
              "\n",
              "/**\n",
              " * @fileoverview Helpers for google.colab Python module.\n",
              " */\n",
              "(function(scope) {\n",
              "function span(text, styleAttributes = {}) {\n",
              "  const element = document.createElement('span');\n",
              "  element.textContent = text;\n",
              "  for (const key of Object.keys(styleAttributes)) {\n",
              "    element.style[key] = styleAttributes[key];\n",
              "  }\n",
              "  return element;\n",
              "}\n",
              "\n",
              "// Max number of bytes which will be uploaded at a time.\n",
              "const MAX_PAYLOAD_SIZE = 100 * 1024;\n",
              "\n",
              "function _uploadFiles(inputId, outputId) {\n",
              "  const steps = uploadFilesStep(inputId, outputId);\n",
              "  const outputElement = document.getElementById(outputId);\n",
              "  // Cache steps on the outputElement to make it available for the next call\n",
              "  // to uploadFilesContinue from Python.\n",
              "  outputElement.steps = steps;\n",
              "\n",
              "  return _uploadFilesContinue(outputId);\n",
              "}\n",
              "\n",
              "// This is roughly an async generator (not supported in the browser yet),\n",
              "// where there are multiple asynchronous steps and the Python side is going\n",
              "// to poll for completion of each step.\n",
              "// This uses a Promise to block the python side on completion of each step,\n",
              "// then passes the result of the previous step as the input to the next step.\n",
              "function _uploadFilesContinue(outputId) {\n",
              "  const outputElement = document.getElementById(outputId);\n",
              "  const steps = outputElement.steps;\n",
              "\n",
              "  const next = steps.next(outputElement.lastPromiseValue);\n",
              "  return Promise.resolve(next.value.promise).then((value) => {\n",
              "    // Cache the last promise value to make it available to the next\n",
              "    // step of the generator.\n",
              "    outputElement.lastPromiseValue = value;\n",
              "    return next.value.response;\n",
              "  });\n",
              "}\n",
              "\n",
              "/**\n",
              " * Generator function which is called between each async step of the upload\n",
              " * process.\n",
              " * @param {string} inputId Element ID of the input file picker element.\n",
              " * @param {string} outputId Element ID of the output display.\n",
              " * @return {!Iterable<!Object>} Iterable of next steps.\n",
              " */\n",
              "function* uploadFilesStep(inputId, outputId) {\n",
              "  const inputElement = document.getElementById(inputId);\n",
              "  inputElement.disabled = false;\n",
              "\n",
              "  const outputElement = document.getElementById(outputId);\n",
              "  outputElement.innerHTML = '';\n",
              "\n",
              "  const pickedPromise = new Promise((resolve) => {\n",
              "    inputElement.addEventListener('change', (e) => {\n",
              "      resolve(e.target.files);\n",
              "    });\n",
              "  });\n",
              "\n",
              "  const cancel = document.createElement('button');\n",
              "  inputElement.parentElement.appendChild(cancel);\n",
              "  cancel.textContent = 'Cancel upload';\n",
              "  const cancelPromise = new Promise((resolve) => {\n",
              "    cancel.onclick = () => {\n",
              "      resolve(null);\n",
              "    };\n",
              "  });\n",
              "\n",
              "  // Wait for the user to pick the files.\n",
              "  const files = yield {\n",
              "    promise: Promise.race([pickedPromise, cancelPromise]),\n",
              "    response: {\n",
              "      action: 'starting',\n",
              "    }\n",
              "  };\n",
              "\n",
              "  cancel.remove();\n",
              "\n",
              "  // Disable the input element since further picks are not allowed.\n",
              "  inputElement.disabled = true;\n",
              "\n",
              "  if (!files) {\n",
              "    return {\n",
              "      response: {\n",
              "        action: 'complete',\n",
              "      }\n",
              "    };\n",
              "  }\n",
              "\n",
              "  for (const file of files) {\n",
              "    const li = document.createElement('li');\n",
              "    li.append(span(file.name, {fontWeight: 'bold'}));\n",
              "    li.append(span(\n",
              "        `(${file.type || 'n/a'}) - ${file.size} bytes, ` +\n",
              "        `last modified: ${\n",
              "            file.lastModifiedDate ? file.lastModifiedDate.toLocaleDateString() :\n",
              "                                    'n/a'} - `));\n",
              "    const percent = span('0% done');\n",
              "    li.appendChild(percent);\n",
              "\n",
              "    outputElement.appendChild(li);\n",
              "\n",
              "    const fileDataPromise = new Promise((resolve) => {\n",
              "      const reader = new FileReader();\n",
              "      reader.onload = (e) => {\n",
              "        resolve(e.target.result);\n",
              "      };\n",
              "      reader.readAsArrayBuffer(file);\n",
              "    });\n",
              "    // Wait for the data to be ready.\n",
              "    let fileData = yield {\n",
              "      promise: fileDataPromise,\n",
              "      response: {\n",
              "        action: 'continue',\n",
              "      }\n",
              "    };\n",
              "\n",
              "    // Use a chunked sending to avoid message size limits. See b/62115660.\n",
              "    let position = 0;\n",
              "    do {\n",
              "      const length = Math.min(fileData.byteLength - position, MAX_PAYLOAD_SIZE);\n",
              "      const chunk = new Uint8Array(fileData, position, length);\n",
              "      position += length;\n",
              "\n",
              "      const base64 = btoa(String.fromCharCode.apply(null, chunk));\n",
              "      yield {\n",
              "        response: {\n",
              "          action: 'append',\n",
              "          file: file.name,\n",
              "          data: base64,\n",
              "        },\n",
              "      };\n",
              "\n",
              "      let percentDone = fileData.byteLength === 0 ?\n",
              "          100 :\n",
              "          Math.round((position / fileData.byteLength) * 100);\n",
              "      percent.textContent = `${percentDone}% done`;\n",
              "\n",
              "    } while (position < fileData.byteLength);\n",
              "  }\n",
              "\n",
              "  // All done.\n",
              "  yield {\n",
              "    response: {\n",
              "      action: 'complete',\n",
              "    }\n",
              "  };\n",
              "}\n",
              "\n",
              "scope.google = scope.google || {};\n",
              "scope.google.colab = scope.google.colab || {};\n",
              "scope.google.colab._files = {\n",
              "  _uploadFiles,\n",
              "  _uploadFilesContinue,\n",
              "};\n",
              "})(self);\n",
              "</script> "
            ]
          },
          "metadata": {}
        },
        {
          "output_type": "stream",
          "name": "stdout",
          "text": [
            "Saving saude_do_sono_estilo_vida.csv to saude_do_sono_estilo_vida (1).csv\n"
          ]
        }
      ]
    },
    {
      "cell_type": "markdown",
      "source": [
        " Mostrando os dados"
      ],
      "metadata": {
        "id": "YTU5nH0Klujp"
      }
    },
    {
      "cell_type": "code",
      "execution_count": 100,
      "metadata": {
        "id": "t-vUexChbBkk",
        "colab": {
          "base_uri": "https://localhost:8080/"
        },
        "outputId": "52463548-e453-4ad0-aba6-5504d507781f"
      },
      "outputs": [
        {
          "output_type": "stream",
          "name": "stdout",
          "text": [
            "   ID Gênero  Idade                 Ocupação  Duração do sono  \\\n",
            "0   1  Homem     27         Eng. de Software              6.1   \n",
            "1   2  Homem     28                Médico(a)              6.2   \n",
            "2   3  Homem     28                Médico(a)              6.2   \n",
            "3   4  Homem     28  Representante de Vendas              5.9   \n",
            "4   5  Homem     28  Representante de Vendas              5.9   \n",
            "\n",
            "   Qualidade do sono  Nível de atividade física  Nível de estresse  \\\n",
            "0                  6                         42                  6   \n",
            "1                  6                         60                  8   \n",
            "2                  6                         60                  8   \n",
            "3                  4                         30                  8   \n",
            "4                  4                         30                  8   \n",
            "\n",
            "  Categoria BMI Pressão sanguíneaaaa  Frequência cardíaca  Passos diários  \\\n",
            "0     Sobrepeso               126/83                   77            4200   \n",
            "1        Normal               125/80                   75           10000   \n",
            "2        Normal               125/80                   75           10000   \n",
            "3     Obesidade               140/90                   85            3000   \n",
            "4     Obesidade               140/90                   85            3000   \n",
            "\n",
            "  Distúrbio do sono  \n",
            "0           Nenhuma  \n",
            "1           Nenhuma  \n",
            "2           Nenhuma  \n",
            "3    Apneia do sono  \n",
            "4    Apneia do sono  \n"
          ]
        }
      ],
      "source": [
        "import pandas as pd\n",
        "import numpy as np\n",
        "#carrega os dados do arquivo csv\n",
        "df = pd.read_csv(\"saude_do_sono_estilo_vida.csv\")\n",
        "\n",
        "print(df.head()) # Imprime as primeiras linhas do dataset\n",
        "\n"
      ]
    },
    {
      "cell_type": "markdown",
      "source": [
        " 1. Ao visualizar a base você percebeu que seria melhor alterar o nome de\n",
        "algumas colunas. Mude o ‘ID’ para ‘Identificador’, corrija o nome da coluna\n",
        "que indica a pressão sanguínea, mude a coluna ‘Ocupação’ para ‘Profissão’,\n",
        "a coluna ‘Categoria BMI’ está em parte em inglês, substitua para ‘Categoria\n",
        "IMC’"
      ],
      "metadata": {
        "id": "FCb6hgl_k8Ae"
      }
    },
    {
      "cell_type": "code",
      "source": [
        "novos_nomes = {\n",
        "    \"ID\": \"Identificador\",\n",
        "    \"Ocupação\": \"Profissão\",\n",
        "    \"Pressão sanguíneaaaa\": \"Pressão Sanguínea\"\n",
        "}\n",
        "\n",
        "# Renomeando a coluna \"Categoria BMI\" para \"Categoria IMC\" e as outras alterações\n",
        "df.rename(columns={**novos_nomes, \"Categoria BMI\": \"Categoria IMC\"}, inplace=True)\n",
        "\n",
        "# Exibe os novos nomes das colunas para conferir\n",
        "print(\"Colunas após renomeação:\", df.columns)\n",
        "\n",
        "# Salvar o novo dataframe com as modificações\n",
        "df.to_csv(\"saude_do_sono_estilo_vida_atualizado.csv\", index=False)\n"
      ],
      "metadata": {
        "colab": {
          "base_uri": "https://localhost:8080/"
        },
        "id": "z4LJf5V_U2vq",
        "outputId": "bb42c06c-ecf6-42ba-bfb9-f0b3793d79d6"
      },
      "execution_count": 101,
      "outputs": [
        {
          "output_type": "stream",
          "name": "stdout",
          "text": [
            "Colunas após renomeação: Index(['Identificador', 'Gênero', 'Idade', 'Profissão', 'Duração do sono',\n",
            "       'Qualidade do sono', 'Nível de atividade física', 'Nível de estresse',\n",
            "       'Categoria IMC', 'Pressão Sanguínea', 'Frequência cardíaca',\n",
            "       'Passos diários', 'Distúrbio do sono'],\n",
            "      dtype='object')\n"
          ]
        }
      ]
    },
    {
      "cell_type": "markdown",
      "source": [
        "2. Qual é a média, a moda e a mediana de horas de sono para cada uma\n",
        "das profissões?\n"
      ],
      "metadata": {
        "id": "BxFOhtHjlAVZ"
      }
    },
    {
      "cell_type": "code",
      "source": [
        "\n",
        "# Calcular a média, mediana e a moda de horas de sono para cada profissão\n",
        "estatistica_sono = df.groupby(\"Profissão\")[\"Duração do sono\"].agg([\"mean\", np.median, pd.Series.mode])\n",
        "print(estatistica_sono)"
      ],
      "metadata": {
        "colab": {
          "base_uri": "https://localhost:8080/"
        },
        "id": "EfgR-GC2U4_k",
        "outputId": "075a381f-a2d0-4ab3-ca7c-c2d0b4fa74eb"
      },
      "execution_count": 102,
      "outputs": [
        {
          "output_type": "stream",
          "name": "stdout",
          "text": [
            "                             mean  median        mode\n",
            "Profissão                                            \n",
            "Advogado(a)              7.410638     7.3         7.2\n",
            "Cientista                6.000000     6.0  [5.8, 6.2]\n",
            "Contador(a)              7.113514     7.2         7.2\n",
            "Enfermeiro(a)            7.048611     6.5         6.1\n",
            "Eng. de Software         6.750000     6.8         7.5\n",
            "Engenheiro(a)            7.987302     8.3         8.4\n",
            "Gerente                  6.900000     6.9         6.9\n",
            "Médico(a)                6.970423     7.6         6.0\n",
            "Pessoa Vendendora        6.403125     6.4         6.5\n",
            "Professor(a)             6.690000     6.6         6.6\n",
            "Representante de Vendas  5.900000     5.9         5.9\n"
          ]
        },
        {
          "output_type": "stream",
          "name": "stderr",
          "text": [
            "<ipython-input-102-9e8a59cc319e>:2: FutureWarning: The provided callable <function median at 0x79a85cb66200> is currently using SeriesGroupBy.median. In a future version of pandas, the provided callable will be used directly. To keep current behavior pass the string \"median\" instead.\n",
            "  estatistica_sono = df.groupby(\"Profissão\")[\"Duração do sono\"].agg([\"mean\", np.median, pd.Series.mode])\n"
          ]
        }
      ]
    },
    {
      "cell_type": "markdown",
      "source": [
        "3. Das pessoas que atuam com engenharia de software qual a\n",
        "porcentagem de obesos?\n"
      ],
      "metadata": {
        "id": "eiPc2iyHlR3P"
      }
    },
    {
      "cell_type": "code",
      "source": [
        "# Filtrar o total de eng.\n",
        "total_obesos = df[df[\"Profissão\"] == \"Eng. de Software\"].shape[0] # .shape retorna uma tupla que contém o número de linhas e colunas que lhe é solicidtado\n",
        "\n",
        "# Contar os obesos\n",
        "obesos_engenheiro = df[(df[\"Profissão\"] == \"Eng. de Software\") & (df[\"Categoria IMC\"] == \"Obeso\")].shape[0]\n",
        "\n",
        "percentual_obesos = (obesos_engenheiro / total_obesos) * 100\n",
        "\n",
        "print(f\"Percentual de obesos entre Engenheiros de Software: {percentual_obesos:.2f}%\")"
      ],
      "metadata": {
        "colab": {
          "base_uri": "https://localhost:8080/"
        },
        "id": "UftavIoMVN5O",
        "outputId": "a3695c24-f139-4bf0-d37e-fbb9454efd84"
      },
      "execution_count": 103,
      "outputs": [
        {
          "output_type": "stream",
          "name": "stdout",
          "text": [
            "Percentual de obesos entre Engenheiros de Software: 0.00%\n"
          ]
        }
      ]
    },
    {
      "cell_type": "markdown",
      "source": [
        "4. De acordo com os dados, advogar ou ser representante de vendas faz\n",
        "você dormir menos?"
      ],
      "metadata": {
        "id": "cVt7pX07lX5C"
      }
    },
    {
      "cell_type": "code",
      "source": [
        "# Lista das profissões que queremos analisar\n",
        "profissoes = [\"Advogado\", \"Representante de Vendas\"]\n",
        "\n",
        "# Filtrando os dados para essas profissões e calculando a média de sono\n",
        "sono_profissoes = df[df[\"Profissão\"].isin(profissoes)][\"Duração do sono\"].mean()\n",
        "\n",
        "# Calculando a média de sono de todo mundo, para comparação\n",
        "sono_geral = df[\"Duração do sono\"].mean()\n",
        "\n",
        "# Exibindo os resultados com duas casas decimais\n",
        "print(f\"Média de sono (Advogados e Representantes de Vendas): {sono_profissoes:.2f}\")\n",
        "print(f\"Média geral de sono: {sono_geral:.2f}\")\n",
        "\n",
        "# Comparando se essas profissões dormem menos que a média geral\n",
        "if sono_profissoes < sono_geral:\n",
        "    print(\"Sim, advogados e representantes de vendas dormem menos.\")\n",
        "else:\n",
        "    print(\"Não, eles não dormem menos que a média geral.\")\n"
      ],
      "metadata": {
        "colab": {
          "base_uri": "https://localhost:8080/"
        },
        "id": "b_kywbNbdziz",
        "outputId": "73628e87-e193-4b3d-c00f-812a3a68e857"
      },
      "execution_count": 104,
      "outputs": [
        {
          "output_type": "stream",
          "name": "stdout",
          "text": [
            "Média de sono (Advogados e Representantes de Vendas): 5.90\n",
            "Média geral de sono: 7.13\n",
            "Sim, advogados e representantes de vendas dormem menos.\n"
          ]
        }
      ]
    },
    {
      "cell_type": "markdown",
      "source": [
        "5. Entre quem fez enfermagem e quem fez medicina, quem tem menos\n",
        "horas de sono?\n"
      ],
      "metadata": {
        "id": "GVVLWkS1lbMX"
      }
    },
    {
      "cell_type": "code",
      "source": [
        "# Lista com as profissões que queremos comparar\n",
        "profissoes_saude = [\"Enfermeiro(a)\", \"Médico()a\"]\n",
        "\n",
        "# Filtra o DataFrame para pegar as profissões da lista e calcula a média de sono para cada uma\n",
        "sono_saude = df[df[\"Profissão\"].isin(profissoes_saude)].groupby(\"Profissão\")[\"Duração do sono\"].mean()\n",
        "\n",
        "# Exibe a profissão com menos horas de sono\n",
        "menor_sono = sono_saude.idxmin()  # Pega a profissão com a menor média\n",
        "quantidade_menor_sono = sono_saude.min()  # Pega o valor da menor média\n",
        "\n",
        "print(f\"A profissão com menos horas de sono é {menor_sono} com {quantidade_menor_sono} horas de sono em média.\")\n"
      ],
      "metadata": {
        "colab": {
          "base_uri": "https://localhost:8080/"
        },
        "id": "X8u1kK11fBnc",
        "outputId": "8a77d144-6857-4026-c177-4fded1c16509"
      },
      "execution_count": 88,
      "outputs": [
        {
          "output_type": "stream",
          "name": "stdout",
          "text": [
            "A profissão com menos horas de sono é Enfermeiro(a) com 7.048611111111111 horas de sono em média.\n"
          ]
        }
      ]
    },
    {
      "cell_type": "markdown",
      "source": [
        "6. Faça um subconjunto com as colunas Identificador, Gênero, Idade,\n",
        "Pressão sanguínea e Frequência cardíaca.\n"
      ],
      "metadata": {
        "id": "DkXUpHmPmH_E"
      }
    },
    {
      "cell_type": "code",
      "source": [
        "# Criar um novo DataFrame contendo apenas as colunas desejadas\n",
        "subconjunto = df[[\"Identificador\", \"Gênero\", \"Idade\", \"Pressão Sanguínea\", \"Frequência cardíaca\"]]\n",
        "\n",
        "# Exibir as primeiras linhas do subconjunto para verificar\n",
        "print(subconjunto.head())"
      ],
      "metadata": {
        "colab": {
          "base_uri": "https://localhost:8080/"
        },
        "id": "A46JRLFvgenG",
        "outputId": "94c830b5-0fcf-4c2d-db43-2cb8c6471199"
      },
      "execution_count": 90,
      "outputs": [
        {
          "output_type": "stream",
          "name": "stdout",
          "text": [
            "   Identificador Gênero  Idade Pressão Sanguínea  Frequência cardíaca\n",
            "0              1  Homem     27            126/83                   77\n",
            "1              2  Homem     28            125/80                   75\n",
            "2              3  Homem     28            125/80                   75\n",
            "3              4  Homem     28            140/90                   85\n",
            "4              5  Homem     28            140/90                   85\n"
          ]
        }
      ]
    },
    {
      "cell_type": "markdown",
      "source": [
        "7. Descubra qual a profissão menos frequente no conjunto.\n"
      ],
      "metadata": {
        "id": "ovglyUmhnWIg"
      }
    },
    {
      "cell_type": "code",
      "source": [
        "# Descobrimos qual profissão tem o menor número de pessoas\n",
        "profissao_menos_frequente = df[\"Profissão\"].value_counts().idxmin()\n",
        "\n",
        "# Exibir o resultado\n",
        "print(f\"A profissão menos frequente é: {profissao_menos_frequente}\")\n"
      ],
      "metadata": {
        "colab": {
          "base_uri": "https://localhost:8080/"
        },
        "id": "GnRmEbb4guJH",
        "outputId": "52a99706-ab49-43f7-f479-0068bc14d993"
      },
      "execution_count": 55,
      "outputs": [
        {
          "output_type": "stream",
          "name": "stdout",
          "text": [
            "A profissão menos frequente é: Gerente\n"
          ]
        }
      ]
    },
    {
      "cell_type": "markdown",
      "source": [
        ". Quem tem maior pressão sanguínea média, homens ou mulheres?\n",
        "(Considere a média)\n"
      ],
      "metadata": {
        "id": "JabUXvu5nek7"
      }
    },
    {
      "cell_type": "code",
      "source": [
        "# Separando as colunas de pressão sistólica e diastólica\n",
        "df[['Pressão sistólica', 'Pressão diastólica']] = df['Pressão Sanguínea'].str.split('/', expand=True)\n",
        "\n",
        "# Convertendo as colunas para o tipo numérico\n",
        "df['Pressão sistólica'] = pd.to_numeric(df['Pressão sistólica'])\n",
        "df['Pressão diastólica'] = pd.to_numeric(df['Pressão diastólica'])\n",
        "\n",
        "# Calculando a média da pressão arterial (média entre sistólica e diastólica)\n",
        "df['Média Pressão Sanguínea'] = (df['Pressão sistólica'] + df['Pressão diastólica']) / 2\n",
        "\n",
        "# Calculando a média da pressão sanguínea por gênero\n",
        "media_pressao_por_genero = df.groupby('Gênero')['Média Pressão Sanguínea'].mean()\n",
        "\n",
        "\n",
        "# Exibe quem tem a maior média de pressão sanguínea\n",
        "maior_pressao_genero = media_pressao_por_genero.idxmax()\n",
        "maior_pressao_valor = media_pressao_por_genero.max()\n",
        "\n",
        "print(f'O gênero com a maior pressão sanguínea média é {maior_pressao_genero} com uma média de {maior_pressao_valor:.2f}.')\n"
      ],
      "metadata": {
        "colab": {
          "base_uri": "https://localhost:8080/"
        },
        "id": "Ya_trd9PkEij",
        "outputId": "47bbbc62-4884-4ec7-c984-359191fabb41"
      },
      "execution_count": 94,
      "outputs": [
        {
          "output_type": "stream",
          "name": "stdout",
          "text": [
            "O gênero com a maior pressão sanguínea média é Mulher com uma média de 108.21.\n"
          ]
        }
      ]
    },
    {
      "cell_type": "markdown",
      "source": [
        "9. É predominante entre os participantes dormir 8 horas por dia\n",
        "(considere usar Moda como medida)?\n"
      ],
      "metadata": {
        "id": "nM6RSCC6oHqX"
      }
    },
    {
      "cell_type": "code",
      "source": [
        "# Contando o número de participantes que dormem 8 horas\n",
        "participantes_8h = df[df['Duração do sono'] == 8].shape[0]\n",
        "\n",
        "# Contando o total de participantes\n",
        "total_participantes = df.shape[0]\n",
        "\n",
        "# Calculando a porcentagem de participantes que dormem 8 horas\n",
        "porcentagem_8h = (participantes_8h / total_participantes) * 100\n",
        "\n",
        "# Exibindo o resultado\n",
        "print(f'{participantes_8h} participantes dormem 8 horas por dia, o que corresponde a {porcentagem_8h:.2f}% do total.')\n",
        "if porcentagem_8h > 50:\n",
        "    print(\"Sim, dormir 8 horas por dia é predominante entre os participantes.\")\n",
        "else:\n",
        "    print(\"Não, dormir 8 horas por dia não é predominante entre os participantes.\")\n"
      ],
      "metadata": {
        "colab": {
          "base_uri": "https://localhost:8080/"
        },
        "id": "wisgVd1yoBvS",
        "outputId": "68c8b6e4-71ef-4e41-c90e-8897469f55a0"
      },
      "execution_count": 96,
      "outputs": [
        {
          "output_type": "stream",
          "name": "stdout",
          "text": [
            "13 participantes dormem 8 horas por dia, o que corresponde a 3.49% do total.\n",
            "Não, dormir 8 horas por dia não é predominante entre os participantes.\n"
          ]
        }
      ]
    },
    {
      "cell_type": "markdown",
      "source": [
        "10. Pessoas com frequências cardíacas acima de 70 dão mais passos que\n",
        "pessoas com frequência cardíaca menor ou igual a 70? (Use a média)"
      ],
      "metadata": {
        "id": "3HGPa1s2oZID"
      }
    },
    {
      "cell_type": "code",
      "source": [
        "df = pd.read_csv(\"saude_do_sono_estilo_vida_atualizado.csv\")\n",
        "\n",
        "# Dividindo os participantes em dois grupos: FC > 70 e FC <= 70\n",
        "grupo_fc_maior_70 = df[df['Frequência cardíaca'] > 70]\n",
        "grupo_fc_menor_igual_70 = df[df['Frequência cardíaca'] <= 70]\n",
        "\n",
        "# Calculando a média de passos diários para cada grupo\n",
        "media_passos_fc_maior_70 = grupo_fc_maior_70['Passos diários'].mean()\n",
        "media_passos_fc_menor_igual_70 = grupo_fc_menor_igual_70['Passos diários'].mean()\n",
        "\n",
        "# Exibindo os resultados\n",
        "print(f'Média de passos para frequência cardíaca acima de 70: {media_passos_fc_maior_70:.2f}')\n",
        "print(f'Média de passos para frequência cardíaca menor ou igual a 70: {media_passos_fc_menor_igual_70:.2f}')\n",
        "\n",
        "# Comparando as médias\n",
        "if media_passos_fc_maior_70 > media_passos_fc_menor_igual_70:\n",
        "    print(\"Pessoas com frequência cardíaca acima de 70 dão mais passos do que aquelas com frequencia cardiaca menor ou igual a 70.\")\n",
        "else:\n",
        "    print(\"Pessoas com frequência cardíaca menor ou igual a 70 dão mais passos do que aquelas com frequência cardiaca acima de 70.\")\n"
      ],
      "metadata": {
        "colab": {
          "base_uri": "https://localhost:8080/"
        },
        "id": "lPllU3W1oa7_",
        "outputId": "419b99bc-8ca2-4e5e-f06a-0b21f2559cf0"
      },
      "execution_count": 99,
      "outputs": [
        {
          "output_type": "stream",
          "name": "stdout",
          "text": [
            "Média de passos para frequência cardíaca acima de 70: 6472.93\n",
            "Média de passos para frequência cardíaca menor ou igual a 70: 7006.67\n",
            "Pessoas com frequência cardíaca menor ou igual a 70 dão mais passos do que aquelas com frequência cardiaca acima de 70.\n"
          ]
        }
      ]
    }
  ]
}